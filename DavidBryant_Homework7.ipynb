{
  "nbformat": 4,
  "nbformat_minor": 0,
  "metadata": {
    "colab": {
      "provenance": [],
      "authorship_tag": "ABX9TyPUyHaK05KI0RDi2RZiDKO2",
      "include_colab_link": true
    },
    "kernelspec": {
      "name": "python3",
      "display_name": "Python 3"
    },
    "language_info": {
      "name": "python"
    }
  },
  "cells": [
    {
      "cell_type": "markdown",
      "metadata": {
        "id": "view-in-github",
        "colab_type": "text"
      },
      "source": [
        "<a href=\"https://colab.research.google.com/github/dmb0018/Homework7/blob/main/DavidBryant_Homework7.ipynb\" target=\"_parent\"><img src=\"https://colab.research.google.com/assets/colab-badge.svg\" alt=\"Open In Colab\"/></a>"
      ]
    },
    {
      "cell_type": "markdown",
      "source": [
        "Use SciPy Optimization to solve:\n",
        "\n",
        "Someone wants to build a cardboard box and maximize the volume by adjusting the length (L), width (W), and height (H) of the box and the same time the surface area of the box (area of 6 sides) stays no more than 10.\n",
        "\n",
        "Print optimal L, W, H, Volume and surface area."
      ],
      "metadata": {
        "id": "CWF0z8KA11ut"
      }
    },
    {
      "cell_type": "code",
      "execution_count": 2,
      "metadata": {
        "id": "LLY5puAky-EK"
      },
      "outputs": [],
      "source": [
        "import numpy as nmp\n",
        "from scipy.optimize import minimize"
      ]
    },
    {
      "cell_type": "code",
      "source": [
        "# Create function that will determine the volume of the box\n",
        "def calculateVolume(x):\n",
        "  length = x[0]\n",
        "  width = x[1]\n",
        "  height = x[2]\n",
        "  volume = length * width * height\n",
        "  return volume\n",
        "\n",
        "# Create function that will determine the surface area of the box\n",
        "def calculateSurfaceArea(x):\n",
        "  length = x[0]\n",
        "  width = x[1]\n",
        "  height = x[2]\n",
        "  surface_area = 2 * (length * width + length * height + width * height)\n",
        "  return surface_area\n",
        "\n",
        "# Create function for optimization\n",
        "def optimizationFunc(x):\n",
        "  return -calculateVolume(x)\n",
        "\n",
        "# Define constraint\n",
        "def constraint(x):\n",
        "  return 10 - calculateSurfaceArea(x)\n",
        "\n",
        "# Define constraints type\n",
        "constraints = ({'type':'ineq','fun':constraint})\n",
        "\n",
        "#set initial guesses\n",
        "length_guess = 1\n",
        "width_guess = 1\n",
        "height_guess = 1\n",
        "x_initial = nmp.array([length_guess, width_guess, height_guess])\n",
        "\n",
        "# Use minimize from scipy to obtain the answer given the constraints\n",
        "answer = minimize(optimizationFunc, x_initial,method='SLSQP', constraints = constraints)\n",
        "\n",
        "# Set variables equal to the answers found from the minimize method\n",
        "optimal_length = answer.x[0]\n",
        "optimal_width = answer.x[1]\n",
        "optimal_height = answer.x[2]\n",
        "optimal_volume = -answer.fun\n",
        "optimal_SurfaceArea = calculateSurfaceArea(answer.x)\n",
        "\n",
        "# Display the values of the variables that provide the optimal volume\n",
        "print(\"The optimal volume of the box is:\", optimal_volume)\n",
        "print(\"This is obtained by having the following values:\")\n",
        "print(\"A length of:\", optimal_length)\n",
        "print(\"A width of:\", optimal_width)\n",
        "print(\"A height of:\", optimal_height)\n",
        "print(\"A surface area of:\", optimal_SurfaceArea)"
      ],
      "metadata": {
        "colab": {
          "base_uri": "https://localhost:8080/"
        },
        "id": "XBybrHeiBbAp",
        "outputId": "55625cd2-dd74-4487-e10d-e78e99dfc0b3"
      },
      "execution_count": 4,
      "outputs": [
        {
          "output_type": "stream",
          "name": "stdout",
          "text": [
            "The optimal volume of the box is: 2.151657414467269\n",
            "This is obtained by having the following values:\n",
            "A length of: 1.2909944727867015\n",
            "A width of: 1.290994455352175\n",
            "A height of: 1.2909944180130968\n",
            "A surface area of: 9.999999999713689\n"
          ]
        }
      ]
    }
  ]
}